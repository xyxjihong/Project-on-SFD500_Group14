{
 "cells": [
  {
   "cell_type": "code",
   "execution_count": 2,
   "metadata": {},
   "outputs": [],
   "source": [
    "import pandas as pd\n",
    "import numpy as np\n",
    "from datetime import datetime\n",
    "import datetime as dt\n",
    "import matplotlib.pyplot as plt\n",
    "import structure_product"
   ]
  },
  {
   "cell_type": "code",
   "execution_count": 3,
   "metadata": {},
   "outputs": [],
   "source": [
    "import warnings\n",
    "warnings.filterwarnings(\"ignore\")"
   ]
  },
  {
   "cell_type": "code",
   "execution_count": 70,
   "metadata": {},
   "outputs": [
    {
     "data": {
      "text/plain": [
       "<module 'structure_product' from 'd:\\\\QF5202\\\\Projects\\\\Project2_SFD500\\\\structure_product.py'>"
      ]
     },
     "execution_count": 70,
     "metadata": {},
     "output_type": "execute_result"
    }
   ],
   "source": [
    "import importlib\n",
    "importlib.reload(structure_product)"
   ]
  },
  {
   "attachments": {},
   "cell_type": "markdown",
   "metadata": {},
   "source": [
    "### Load data and set up basic parameters"
   ]
  },
  {
   "cell_type": "code",
   "execution_count": 1,
   "metadata": {},
   "outputs": [
    {
     "ename": "NameError",
     "evalue": "name 'pd' is not defined",
     "output_type": "error",
     "traceback": [
      "\u001B[1;31m---------------------------------------------------------------------------\u001B[0m",
      "\u001B[1;31mNameError\u001B[0m                                 Traceback (most recent call last)",
      "\u001B[1;32m~\\AppData\\Local\\Temp\\ipykernel_11488\\3095056406.py\u001B[0m in \u001B[0;36m<module>\u001B[1;34m\u001B[0m\n\u001B[1;32m----> 1\u001B[1;33m \u001B[0mstock_df\u001B[0m \u001B[1;33m=\u001B[0m \u001B[0mpd\u001B[0m\u001B[1;33m.\u001B[0m\u001B[0mread_csv\u001B[0m\u001B[1;33m(\u001B[0m\u001B[1;34m\"Data\\Project2 SFD500-stock_price-002727.csv\"\u001B[0m\u001B[1;33m)\u001B[0m\u001B[1;33m.\u001B[0m\u001B[0mrename\u001B[0m\u001B[1;33m(\u001B[0m\u001B[0mcolumns\u001B[0m \u001B[1;33m=\u001B[0m \u001B[1;33m{\u001B[0m\u001B[1;34m\"Unnamed: 0\"\u001B[0m\u001B[1;33m:\u001B[0m \u001B[1;34m\"date\"\u001B[0m\u001B[1;33m}\u001B[0m\u001B[1;33m)\u001B[0m \u001B[1;31m# dataframe of the underlying stock price\u001B[0m\u001B[1;33m\u001B[0m\u001B[1;33m\u001B[0m\u001B[0m\n\u001B[0m\u001B[0;32m      2\u001B[0m \u001B[0mstock_series\u001B[0m \u001B[1;33m=\u001B[0m \u001B[0mstock_df\u001B[0m\u001B[1;33m.\u001B[0m\u001B[0mset_index\u001B[0m\u001B[1;33m(\u001B[0m\u001B[0mpd\u001B[0m\u001B[1;33m.\u001B[0m\u001B[0mto_datetime\u001B[0m\u001B[1;33m(\u001B[0m\u001B[0mstock_df\u001B[0m\u001B[1;33m[\u001B[0m\u001B[1;34m\"date\"\u001B[0m\u001B[1;33m]\u001B[0m\u001B[1;33m)\u001B[0m\u001B[1;33m)\u001B[0m\u001B[1;33m[\u001B[0m\u001B[1;34m\"CLOSE\"\u001B[0m\u001B[1;33m]\u001B[0m\u001B[1;33m.\u001B[0m\u001B[0msqueeze\u001B[0m\u001B[1;33m(\u001B[0m\u001B[1;33m)\u001B[0m \u001B[1;31m# time series of stock price\u001B[0m\u001B[1;33m\u001B[0m\u001B[1;33m\u001B[0m\u001B[0m\n\u001B[0;32m      3\u001B[0m \u001B[0mlogret_series\u001B[0m \u001B[1;33m=\u001B[0m \u001B[0mnp\u001B[0m\u001B[1;33m.\u001B[0m\u001B[0mlog\u001B[0m\u001B[1;33m(\u001B[0m\u001B[0mstock_series\u001B[0m\u001B[1;33m)\u001B[0m\u001B[1;33m.\u001B[0m\u001B[0mdiff\u001B[0m\u001B[1;33m(\u001B[0m\u001B[1;33m)\u001B[0m\u001B[1;33m.\u001B[0m\u001B[0mdropna\u001B[0m\u001B[1;33m(\u001B[0m\u001B[1;33m)\u001B[0m \u001B[1;31m# time series of log return with the first day deleted\u001B[0m\u001B[1;33m\u001B[0m\u001B[1;33m\u001B[0m\u001B[0m\n\u001B[0;32m      4\u001B[0m \u001B[0mdividend_df\u001B[0m \u001B[1;33m=\u001B[0m \u001B[0mpd\u001B[0m\u001B[1;33m.\u001B[0m\u001B[0mread_csv\u001B[0m\u001B[1;33m(\u001B[0m\u001B[1;34m\"Data\\dividends_002027.csv\"\u001B[0m\u001B[1;33m)\u001B[0m \u001B[1;31m# dataframe of annual cash dividends of the underlying stock\u001B[0m\u001B[1;33m\u001B[0m\u001B[1;33m\u001B[0m\u001B[0m\n\u001B[0;32m      5\u001B[0m \u001B[0mdividend_series\u001B[0m \u001B[1;33m=\u001B[0m \u001B[0mdividend_df\u001B[0m\u001B[1;33m.\u001B[0m\u001B[0mset_index\u001B[0m\u001B[1;33m(\u001B[0m\u001B[0mpd\u001B[0m\u001B[1;33m.\u001B[0m\u001B[0mto_datetime\u001B[0m\u001B[1;33m(\u001B[0m\u001B[0mdividend_df\u001B[0m\u001B[1;33m[\u001B[0m\u001B[1;34m\"Date\"\u001B[0m\u001B[1;33m]\u001B[0m\u001B[1;33m)\u001B[0m\u001B[1;33m)\u001B[0m\u001B[1;33m[\u001B[0m\u001B[1;34m\"Dividends\"\u001B[0m\u001B[1;33m]\u001B[0m\u001B[1;33m.\u001B[0m\u001B[0msqueeze\u001B[0m\u001B[1;33m(\u001B[0m\u001B[1;33m)\u001B[0m \u001B[1;31m# time series of annual cash dividend\u001B[0m\u001B[1;33m\u001B[0m\u001B[1;33m\u001B[0m\u001B[0m\n",
      "\u001B[1;31mNameError\u001B[0m: name 'pd' is not defined"
     ]
    }
   ],
   "source": [
    "stock_df = pd.read_csv(\"Data\\Project2 SFD500-stock_price-002727.csv\").rename(columns = {\"Unnamed: 0\": \"date\"}) # dataframe of the underlying stock price\n",
    "stock_series = stock_df.set_index(pd.to_datetime(stock_df[\"date\"]))[\"CLOSE\"].squeeze() # time series of stock price\n",
    "logret_series = np.log(stock_series).diff().dropna() # time series of log return with the first day deleted\n",
    "dividend_df = pd.read_csv(\"Data\\dividends_002027.csv\") # dataframe of annual cash dividends of the underlying stock\n",
    "dividend_series = dividend_df.set_index(pd.to_datetime(dividend_df[\"Date\"]))[\"Dividends\"].squeeze() # time series of annual cash dividend\n",
    "trade_date = pd.to_datetime(pd.read_csv(\"Data\\Project2 business_day.csv\")[\"date\"]) # trading dates from 2019-01-03 to 2020-01-06"
   ]
  },
  {
   "cell_type": "code",
   "execution_count": 27,
   "metadata": {},
   "outputs": [
    {
     "name": "stdout",
     "output_type": "stream",
     "text": [
      "r: 0.014888612493750559\n",
      "q: 0.0127009829447111\n",
      "sigma: 0.507611640063509\n"
     ]
    }
   ],
   "source": [
    "trade_dates = pd.to_datetime(pd.read_csv('Data\\Project2 business_day.csv')['date'])\n",
    "## assert constant\n",
    "startDate, endDate, valueDate = dt.datetime(2019,1,4), dt.datetime(2019,12,27), dt.datetime(2019,1,3)\n",
    "# monitor dates for up-and-out barrier\n",
    "UnO_dates = pd.to_datetime(pd.Series([dt.date(2019,2,1)\n",
    "             ,dt.date(2019,3,4)\n",
    "             ,dt.date(2019,3,29)\n",
    "             ,dt.date(2019,4,26)\n",
    "             ,dt.date(2019,5,31)\n",
    "             ,dt.date(2019,6,28)\n",
    "             ,dt.date(2019,7,26)\n",
    "             ,dt.date(2019,8,23)\n",
    "             ,dt.date(2019,9,20)\n",
    "             ,dt.date(2019,10,25)\n",
    "             ,dt.date(2019,11,22)\n",
    "             ,dt.date(2019,12,27)]))\n",
    "face_value = 100\n",
    "r = np.log(1 + 0.015) \n",
    "# r = np.log(1 + 0.0269) # continuously compounded risk-free rate\n",
    "sigma = np.sqrt(252*(logret_series**2).mean())\n",
    "# sigma = stock_series.pct_change().std() * np.sqrt(252)\n",
    "# T = (endDate - valueDate).days / 365 # time to maturity in year (358/365)\n",
    "# sigma = pricing_mc.get_vol_option_garch11(T, logret_series, sample_size = 90) # estimated volatility of the stock over the period\n",
    "q = structure_product.get_dividend_yield(stock_series, dividend_series) # continuously compounded dividend yield\n",
    "n = 100000 # number of sample paths\n",
    "S0 = 5.10 # initial stock price on 2019-01-03\n",
    "R = 0.28 # annualized coupon rate\n",
    "UnO_factor = 1.05\n",
    "DnI_factor = 0.68\n",
    "DnI_dates = trade_dates[trade_dates <= endDate]\n",
    "strike = 1 # strike price\n",
    "print(f\"r: {r}\\nq: {q}\\nsigma: {sigma}\")"
   ]
  },
  {
   "attachments": {},
   "cell_type": "markdown",
   "metadata": {},
   "source": [
    "### Initiate the structure product and estimate price on the valueation date"
   ]
  },
  {
   "cell_type": "code",
   "execution_count": 71,
   "metadata": {},
   "outputs": [],
   "source": [
    "SFD500 = structure_product.SFD500(startDate, endDate, face_value, S0, UnO_factor, DnI_factor, UnO_dates, DnI_dates, R, strike, trade_dates)"
   ]
  },
  {
   "cell_type": "code",
   "execution_count": 28,
   "metadata": {},
   "outputs": [
    {
     "name": "stdout",
     "output_type": "stream",
     "text": [
      "96.25741907114343\n",
      "0.06882014743426405\n"
     ]
    }
   ],
   "source": [
    "v0, se, time, v0_df = SFD500.get_mc_price(valueDate, S0, r, q, sigma, n, knock_in = False) \n",
    "print(f\"{v0}\\n{se}\")"
   ]
  },
  {
   "attachments": {},
   "cell_type": "markdown",
   "metadata": {},
   "source": [
    "### Compare Monte-Carlo estimates of returns with the real return"
   ]
  },
  {
   "cell_type": "code",
   "execution_count": 8,
   "metadata": {},
   "outputs": [],
   "source": [
    "v_df = SFD500.get_mc_price_daily(r, q, sigma, 100, v0) # daily MC estimates of price \n",
    "v_df.to_csv(\"mc_return.csv\")\n",
    "mc_daily_mean = v_df.mean(axis = 0) \n",
    "mc_daily_median = v_df.median(axis = 0)\n",
    "mc_daily_std = v_df.std(axis = 0)"
   ]
  },
  {
   "cell_type": "code",
   "execution_count": 30,
   "metadata": {},
   "outputs": [
    {
     "name": "stdout",
     "output_type": "stream",
     "text": [
      "real return: 6.119555449520564%\n"
     ]
    }
   ],
   "source": [
    "S_real = pd.read_csv(\"Data\\price_002027_190103_191227.csv\").rename(columns = {\"Date\": \"date\"}) # underlying stock price during the product period\n",
    "S_real[\"date\"] = pd.to_datetime(S_real[\"date\"])\n",
    "S_real = S_real.merge(trade_dates[trade_dates <= endDate], how = \"right\", on = \"date\").set_index(\"date\")[\"Close\"].ffill() # fill in missing stock price with the previous price\n",
    "v_real = SFD500.get_real_price_daily(S_real, r, q, sigma, n, v0) # daily MC estimates of price using market data of stock price\n",
    "print(f\"real return: {(v_real[v_real > 0][-1]/v_real[0] - 1)*100}%\") # actual payoff / estimated price on the valuation date"
   ]
  },
  {
   "cell_type": "code",
   "execution_count": null,
   "metadata": {},
   "outputs": [],
   "source": [
    "SFD500.plot_real_mc_price(v_real, mc_daily_mean, mc_daily_median)"
   ]
  },
  {
   "attachments": {},
   "cell_type": "markdown",
   "metadata": {},
   "source": [
    "### Test a hedging strategy"
   ]
  },
  {
   "cell_type": "code",
   "execution_count": 37,
   "metadata": {},
   "outputs": [
    {
     "data": {
      "text/html": [
       "<div>\n",
       "<style scoped>\n",
       "    .dataframe tbody tr th:only-of-type {\n",
       "        vertical-align: middle;\n",
       "    }\n",
       "\n",
       "    .dataframe tbody tr th {\n",
       "        vertical-align: top;\n",
       "    }\n",
       "\n",
       "    .dataframe thead th {\n",
       "        text-align: right;\n",
       "    }\n",
       "</style>\n",
       "<table border=\"1\" class=\"dataframe\">\n",
       "  <thead>\n",
       "    <tr style=\"text-align: right;\">\n",
       "      <th></th>\n",
       "      <th>delta</th>\n",
       "      <th>bond</th>\n",
       "      <th>PnL</th>\n",
       "      <th>cumulative PnL</th>\n",
       "    </tr>\n",
       "    <tr>\n",
       "      <th>date</th>\n",
       "      <th></th>\n",
       "      <th></th>\n",
       "      <th></th>\n",
       "      <th></th>\n",
       "    </tr>\n",
       "  </thead>\n",
       "  <tbody>\n",
       "    <tr>\n",
       "      <th>2019-01-03</th>\n",
       "      <td>30.542375</td>\n",
       "      <td>-59.508692</td>\n",
       "      <td>NaN</td>\n",
       "      <td>NaN</td>\n",
       "    </tr>\n",
       "    <tr>\n",
       "      <th>2019-01-04</th>\n",
       "      <td>32.451975</td>\n",
       "      <td>-72.679788</td>\n",
       "      <td>3.143270</td>\n",
       "      <td>3.143270</td>\n",
       "    </tr>\n",
       "    <tr>\n",
       "      <th>2019-01-07</th>\n",
       "      <td>31.117175</td>\n",
       "      <td>-66.736586</td>\n",
       "      <td>1.122341</td>\n",
       "      <td>4.265610</td>\n",
       "    </tr>\n",
       "    <tr>\n",
       "      <th>2019-01-08</th>\n",
       "      <td>26.979696</td>\n",
       "      <td>-50.216854</td>\n",
       "      <td>6.481927</td>\n",
       "      <td>10.747537</td>\n",
       "    </tr>\n",
       "    <tr>\n",
       "      <th>2019-01-09</th>\n",
       "      <td>27.663890</td>\n",
       "      <td>-53.739985</td>\n",
       "      <td>-0.276193</td>\n",
       "      <td>10.471345</td>\n",
       "    </tr>\n",
       "    <tr>\n",
       "      <th>2019-01-10</th>\n",
       "      <td>28.825104</td>\n",
       "      <td>-61.754077</td>\n",
       "      <td>1.485881</td>\n",
       "      <td>11.957225</td>\n",
       "    </tr>\n",
       "    <tr>\n",
       "      <th>2019-01-11</th>\n",
       "      <td>24.639134</td>\n",
       "      <td>-37.481904</td>\n",
       "      <td>-0.875123</td>\n",
       "      <td>11.082102</td>\n",
       "    </tr>\n",
       "    <tr>\n",
       "      <th>2019-01-14</th>\n",
       "      <td>28.955390</td>\n",
       "      <td>-56.341782</td>\n",
       "      <td>-4.323006</td>\n",
       "      <td>6.759096</td>\n",
       "    </tr>\n",
       "    <tr>\n",
       "      <th>2019-01-15</th>\n",
       "      <td>29.943012</td>\n",
       "      <td>-64.933801</td>\n",
       "      <td>3.147923</td>\n",
       "      <td>9.907020</td>\n",
       "    </tr>\n",
       "    <tr>\n",
       "      <th>2019-01-16</th>\n",
       "      <td>27.955788</td>\n",
       "      <td>-58.177349</td>\n",
       "      <td>4.548207</td>\n",
       "      <td>14.455227</td>\n",
       "    </tr>\n",
       "    <tr>\n",
       "      <th>2019-01-17</th>\n",
       "      <td>26.337565</td>\n",
       "      <td>-48.613989</td>\n",
       "      <td>-0.374225</td>\n",
       "      <td>14.081002</td>\n",
       "    </tr>\n",
       "    <tr>\n",
       "      <th>2019-01-18</th>\n",
       "      <td>27.696347</td>\n",
       "      <td>-58.299056</td>\n",
       "      <td>1.856496</td>\n",
       "      <td>15.937499</td>\n",
       "    </tr>\n",
       "    <tr>\n",
       "      <th>2019-01-21</th>\n",
       "      <td>25.051463</td>\n",
       "      <td>-45.861462</td>\n",
       "      <td>3.133640</td>\n",
       "      <td>19.071139</td>\n",
       "    </tr>\n",
       "    <tr>\n",
       "      <th>2019-01-22</th>\n",
       "      <td>27.393464</td>\n",
       "      <td>-55.277986</td>\n",
       "      <td>-3.981590</td>\n",
       "      <td>15.089548</td>\n",
       "    </tr>\n",
       "    <tr>\n",
       "      <th>2019-01-23</th>\n",
       "      <td>25.772667</td>\n",
       "      <td>-43.417887</td>\n",
       "      <td>-2.769688</td>\n",
       "      <td>12.319860</td>\n",
       "    </tr>\n",
       "    <tr>\n",
       "      <th>2019-01-24</th>\n",
       "      <td>26.476120</td>\n",
       "      <td>-48.438819</td>\n",
       "      <td>1.037618</td>\n",
       "      <td>13.357479</td>\n",
       "    </tr>\n",
       "    <tr>\n",
       "      <th>2019-01-25</th>\n",
       "      <td>27.553557</td>\n",
       "      <td>-57.434907</td>\n",
       "      <td>2.766525</td>\n",
       "      <td>16.124004</td>\n",
       "    </tr>\n",
       "    <tr>\n",
       "      <th>2019-01-28</th>\n",
       "      <td>25.918893</td>\n",
       "      <td>-47.379915</td>\n",
       "      <td>-0.646353</td>\n",
       "      <td>15.477651</td>\n",
       "    </tr>\n",
       "    <tr>\n",
       "      <th>2019-01-29</th>\n",
       "      <td>24.184777</td>\n",
       "      <td>-35.064206</td>\n",
       "      <td>-2.502548</td>\n",
       "      <td>12.975103</td>\n",
       "    </tr>\n",
       "    <tr>\n",
       "      <th>2019-01-30</th>\n",
       "      <td>28.498036</td>\n",
       "      <td>-58.284081</td>\n",
       "      <td>-1.022068</td>\n",
       "      <td>11.953035</td>\n",
       "    </tr>\n",
       "    <tr>\n",
       "      <th>2019-01-31</th>\n",
       "      <td>27.771605</td>\n",
       "      <td>-49.548224</td>\n",
       "      <td>-4.786452</td>\n",
       "      <td>7.166583</td>\n",
       "    </tr>\n",
       "    <tr>\n",
       "      <th>2019-02-01</th>\n",
       "      <td>0.000000</td>\n",
       "      <td>102.106287</td>\n",
       "      <td>5.253037</td>\n",
       "      <td>12.419620</td>\n",
       "    </tr>\n",
       "  </tbody>\n",
       "</table>\n",
       "</div>"
      ],
      "text/plain": [
       "                delta        bond       PnL  cumulative PnL\n",
       "date                                                       \n",
       "2019-01-03  30.542375  -59.508692       NaN             NaN\n",
       "2019-01-04  32.451975  -72.679788  3.143270        3.143270\n",
       "2019-01-07  31.117175  -66.736586  1.122341        4.265610\n",
       "2019-01-08  26.979696  -50.216854  6.481927       10.747537\n",
       "2019-01-09  27.663890  -53.739985 -0.276193       10.471345\n",
       "2019-01-10  28.825104  -61.754077  1.485881       11.957225\n",
       "2019-01-11  24.639134  -37.481904 -0.875123       11.082102\n",
       "2019-01-14  28.955390  -56.341782 -4.323006        6.759096\n",
       "2019-01-15  29.943012  -64.933801  3.147923        9.907020\n",
       "2019-01-16  27.955788  -58.177349  4.548207       14.455227\n",
       "2019-01-17  26.337565  -48.613989 -0.374225       14.081002\n",
       "2019-01-18  27.696347  -58.299056  1.856496       15.937499\n",
       "2019-01-21  25.051463  -45.861462  3.133640       19.071139\n",
       "2019-01-22  27.393464  -55.277986 -3.981590       15.089548\n",
       "2019-01-23  25.772667  -43.417887 -2.769688       12.319860\n",
       "2019-01-24  26.476120  -48.438819  1.037618       13.357479\n",
       "2019-01-25  27.553557  -57.434907  2.766525       16.124004\n",
       "2019-01-28  25.918893  -47.379915 -0.646353       15.477651\n",
       "2019-01-29  24.184777  -35.064206 -2.502548       12.975103\n",
       "2019-01-30  28.498036  -58.284081 -1.022068       11.953035\n",
       "2019-01-31  27.771605  -49.548224 -4.786452        7.166583\n",
       "2019-02-01   0.000000  102.106287  5.253037       12.419620"
      ]
     },
     "execution_count": 37,
     "metadata": {},
     "output_type": "execute_result"
    }
   ],
   "source": [
    "ds = 0.001 * S0\n",
    "hedge_result = SFD500.test_delta_hedge(S_real, v_real, r, q, sigma, n, ds)\n",
    "hedge_result"
   ]
  },
  {
   "cell_type": "code",
   "execution_count": 74,
   "metadata": {},
   "outputs": [
    {
     "data": {
      "application/vnd.plotly.v1+json": {
       "config": {
        "plotlyServerURL": "https://plot.ly"
       },
       "data": [
        {
         "line": {
          "color": "blue",
          "width": 2
         },
         "name": "Delta",
         "type": "scatter",
         "x": [
          "2019-01-03T00:00:00",
          "2019-01-04T00:00:00",
          "2019-01-07T00:00:00",
          "2019-01-08T00:00:00",
          "2019-01-09T00:00:00",
          "2019-01-10T00:00:00",
          "2019-01-11T00:00:00",
          "2019-01-14T00:00:00",
          "2019-01-15T00:00:00",
          "2019-01-16T00:00:00",
          "2019-01-17T00:00:00",
          "2019-01-18T00:00:00",
          "2019-01-21T00:00:00",
          "2019-01-22T00:00:00",
          "2019-01-23T00:00:00",
          "2019-01-24T00:00:00",
          "2019-01-25T00:00:00",
          "2019-01-28T00:00:00",
          "2019-01-29T00:00:00",
          "2019-01-30T00:00:00",
          "2019-01-31T00:00:00",
          "2019-02-01T00:00:00"
         ],
         "xaxis": "x",
         "y": [
          30.542374721784263,
          32.451974508107334,
          31.117175054641663,
          26.979696413388922,
          27.663890120556562,
          28.825103569099436,
          24.639134128654398,
          28.955390456422283,
          29.943012493724694,
          27.955787958475756,
          26.337564519027367,
          27.696347125821962,
          25.051462891085233,
          27.39346357114191,
          25.772667362950727,
          26.476120141773116,
          27.55355738070132,
          25.918892836882364,
          24.18477727098861,
          28.498035812081564,
          27.771605256136766,
          0
         ],
         "yaxis": "y"
        },
        {
         "line": {
          "color": "green",
          "width": 2
         },
         "name": "Daily PnL",
         "type": "scatter",
         "x": [
          "2019-01-03T00:00:00",
          "2019-01-04T00:00:00",
          "2019-01-07T00:00:00",
          "2019-01-08T00:00:00",
          "2019-01-09T00:00:00",
          "2019-01-10T00:00:00",
          "2019-01-11T00:00:00",
          "2019-01-14T00:00:00",
          "2019-01-15T00:00:00",
          "2019-01-16T00:00:00",
          "2019-01-17T00:00:00",
          "2019-01-18T00:00:00",
          "2019-01-21T00:00:00",
          "2019-01-22T00:00:00",
          "2019-01-23T00:00:00",
          "2019-01-24T00:00:00",
          "2019-01-25T00:00:00",
          "2019-01-28T00:00:00",
          "2019-01-29T00:00:00",
          "2019-01-30T00:00:00",
          "2019-01-31T00:00:00",
          "2019-02-01T00:00:00"
         ],
         "xaxis": "x2",
         "y": [
          null,
          3.143269805248441,
          1.1223406494465176,
          6.481926938051315,
          -0.27619283953401463,
          1.4858808993114625,
          -0.8751233101976678,
          -4.32300575973303,
          3.147923375636019,
          4.548207282354258,
          -0.3742246748546661,
          1.8564964728778222,
          3.1336397069086286,
          -3.98159031125165,
          -2.7696877981146852,
          1.0376181515480114,
          2.7665250554718983,
          -0.6463526652878954,
          -2.5025483042141365,
          -1.0220676980711223,
          -4.78645231240397,
          5.2530374584764274
         ],
         "yaxis": "y2"
        },
        {
         "line": {
          "color": "orange",
          "width": 2
         },
         "name": "Cumulative PnL",
         "type": "scatter",
         "x": [
          "2019-01-03T00:00:00",
          "2019-01-04T00:00:00",
          "2019-01-07T00:00:00",
          "2019-01-08T00:00:00",
          "2019-01-09T00:00:00",
          "2019-01-10T00:00:00",
          "2019-01-11T00:00:00",
          "2019-01-14T00:00:00",
          "2019-01-15T00:00:00",
          "2019-01-16T00:00:00",
          "2019-01-17T00:00:00",
          "2019-01-18T00:00:00",
          "2019-01-21T00:00:00",
          "2019-01-22T00:00:00",
          "2019-01-23T00:00:00",
          "2019-01-24T00:00:00",
          "2019-01-25T00:00:00",
          "2019-01-28T00:00:00",
          "2019-01-29T00:00:00",
          "2019-01-30T00:00:00",
          "2019-01-31T00:00:00",
          "2019-02-01T00:00:00"
         ],
         "xaxis": "x2",
         "y": [
          null,
          3.143269805248441,
          4.265610454694959,
          10.747537392746274,
          10.47134455321226,
          11.957225452523723,
          11.082102142326056,
          6.759096382593026,
          9.907019758229046,
          14.455227040583303,
          14.081002365728637,
          15.937498838606459,
          19.071138545515087,
          15.089548234263436,
          12.319860436148751,
          13.357478587696763,
          16.12400364316866,
          15.477650977880764,
          12.975102673666626,
          11.953034975595504,
          7.166582663191534,
          12.419620121667961
         ],
         "yaxis": "y2"
        }
       ],
       "layout": {
        "autosize": false,
        "height": 500,
        "legend": {
         "x": 1,
         "xanchor": "right",
         "y": 0,
         "yanchor": "bottom"
        },
        "plot_bgcolor": "rgba(0, 0, 0, 0)",
        "shapes": [
         {
          "line": {
           "color": "grey",
           "dash": "dash"
          },
          "type": "line",
          "x0": "2019-01-03T00:00:00",
          "x1": "2019-02-01T00:00:00",
          "xref": "x",
          "y0": 26.44218334515665,
          "y1": 26.44218334515665,
          "yref": "y"
         },
         {
          "line": {
           "color": "grey",
           "dash": "dash"
          },
          "type": "line",
          "x0": "2019-01-03T00:00:00",
          "x1": "2019-02-01T00:00:00",
          "xref": "x2",
          "y0": 0.5914104819841887,
          "y1": 0.5914104819841887,
          "yref": "y2"
         }
        ],
        "template": {
         "data": {
          "bar": [
           {
            "error_x": {
             "color": "#2a3f5f"
            },
            "error_y": {
             "color": "#2a3f5f"
            },
            "marker": {
             "line": {
              "color": "#E5ECF6",
              "width": 0.5
             },
             "pattern": {
              "fillmode": "overlay",
              "size": 10,
              "solidity": 0.2
             }
            },
            "type": "bar"
           }
          ],
          "barpolar": [
           {
            "marker": {
             "line": {
              "color": "#E5ECF6",
              "width": 0.5
             },
             "pattern": {
              "fillmode": "overlay",
              "size": 10,
              "solidity": 0.2
             }
            },
            "type": "barpolar"
           }
          ],
          "carpet": [
           {
            "aaxis": {
             "endlinecolor": "#2a3f5f",
             "gridcolor": "white",
             "linecolor": "white",
             "minorgridcolor": "white",
             "startlinecolor": "#2a3f5f"
            },
            "baxis": {
             "endlinecolor": "#2a3f5f",
             "gridcolor": "white",
             "linecolor": "white",
             "minorgridcolor": "white",
             "startlinecolor": "#2a3f5f"
            },
            "type": "carpet"
           }
          ],
          "choropleth": [
           {
            "colorbar": {
             "outlinewidth": 0,
             "ticks": ""
            },
            "type": "choropleth"
           }
          ],
          "contour": [
           {
            "colorbar": {
             "outlinewidth": 0,
             "ticks": ""
            },
            "colorscale": [
             [
              0,
              "#0d0887"
             ],
             [
              0.1111111111111111,
              "#46039f"
             ],
             [
              0.2222222222222222,
              "#7201a8"
             ],
             [
              0.3333333333333333,
              "#9c179e"
             ],
             [
              0.4444444444444444,
              "#bd3786"
             ],
             [
              0.5555555555555556,
              "#d8576b"
             ],
             [
              0.6666666666666666,
              "#ed7953"
             ],
             [
              0.7777777777777778,
              "#fb9f3a"
             ],
             [
              0.8888888888888888,
              "#fdca26"
             ],
             [
              1,
              "#f0f921"
             ]
            ],
            "type": "contour"
           }
          ],
          "contourcarpet": [
           {
            "colorbar": {
             "outlinewidth": 0,
             "ticks": ""
            },
            "type": "contourcarpet"
           }
          ],
          "heatmap": [
           {
            "colorbar": {
             "outlinewidth": 0,
             "ticks": ""
            },
            "colorscale": [
             [
              0,
              "#0d0887"
             ],
             [
              0.1111111111111111,
              "#46039f"
             ],
             [
              0.2222222222222222,
              "#7201a8"
             ],
             [
              0.3333333333333333,
              "#9c179e"
             ],
             [
              0.4444444444444444,
              "#bd3786"
             ],
             [
              0.5555555555555556,
              "#d8576b"
             ],
             [
              0.6666666666666666,
              "#ed7953"
             ],
             [
              0.7777777777777778,
              "#fb9f3a"
             ],
             [
              0.8888888888888888,
              "#fdca26"
             ],
             [
              1,
              "#f0f921"
             ]
            ],
            "type": "heatmap"
           }
          ],
          "heatmapgl": [
           {
            "colorbar": {
             "outlinewidth": 0,
             "ticks": ""
            },
            "colorscale": [
             [
              0,
              "#0d0887"
             ],
             [
              0.1111111111111111,
              "#46039f"
             ],
             [
              0.2222222222222222,
              "#7201a8"
             ],
             [
              0.3333333333333333,
              "#9c179e"
             ],
             [
              0.4444444444444444,
              "#bd3786"
             ],
             [
              0.5555555555555556,
              "#d8576b"
             ],
             [
              0.6666666666666666,
              "#ed7953"
             ],
             [
              0.7777777777777778,
              "#fb9f3a"
             ],
             [
              0.8888888888888888,
              "#fdca26"
             ],
             [
              1,
              "#f0f921"
             ]
            ],
            "type": "heatmapgl"
           }
          ],
          "histogram": [
           {
            "marker": {
             "pattern": {
              "fillmode": "overlay",
              "size": 10,
              "solidity": 0.2
             }
            },
            "type": "histogram"
           }
          ],
          "histogram2d": [
           {
            "colorbar": {
             "outlinewidth": 0,
             "ticks": ""
            },
            "colorscale": [
             [
              0,
              "#0d0887"
             ],
             [
              0.1111111111111111,
              "#46039f"
             ],
             [
              0.2222222222222222,
              "#7201a8"
             ],
             [
              0.3333333333333333,
              "#9c179e"
             ],
             [
              0.4444444444444444,
              "#bd3786"
             ],
             [
              0.5555555555555556,
              "#d8576b"
             ],
             [
              0.6666666666666666,
              "#ed7953"
             ],
             [
              0.7777777777777778,
              "#fb9f3a"
             ],
             [
              0.8888888888888888,
              "#fdca26"
             ],
             [
              1,
              "#f0f921"
             ]
            ],
            "type": "histogram2d"
           }
          ],
          "histogram2dcontour": [
           {
            "colorbar": {
             "outlinewidth": 0,
             "ticks": ""
            },
            "colorscale": [
             [
              0,
              "#0d0887"
             ],
             [
              0.1111111111111111,
              "#46039f"
             ],
             [
              0.2222222222222222,
              "#7201a8"
             ],
             [
              0.3333333333333333,
              "#9c179e"
             ],
             [
              0.4444444444444444,
              "#bd3786"
             ],
             [
              0.5555555555555556,
              "#d8576b"
             ],
             [
              0.6666666666666666,
              "#ed7953"
             ],
             [
              0.7777777777777778,
              "#fb9f3a"
             ],
             [
              0.8888888888888888,
              "#fdca26"
             ],
             [
              1,
              "#f0f921"
             ]
            ],
            "type": "histogram2dcontour"
           }
          ],
          "mesh3d": [
           {
            "colorbar": {
             "outlinewidth": 0,
             "ticks": ""
            },
            "type": "mesh3d"
           }
          ],
          "parcoords": [
           {
            "line": {
             "colorbar": {
              "outlinewidth": 0,
              "ticks": ""
             }
            },
            "type": "parcoords"
           }
          ],
          "pie": [
           {
            "automargin": true,
            "type": "pie"
           }
          ],
          "scatter": [
           {
            "fillpattern": {
             "fillmode": "overlay",
             "size": 10,
             "solidity": 0.2
            },
            "type": "scatter"
           }
          ],
          "scatter3d": [
           {
            "line": {
             "colorbar": {
              "outlinewidth": 0,
              "ticks": ""
             }
            },
            "marker": {
             "colorbar": {
              "outlinewidth": 0,
              "ticks": ""
             }
            },
            "type": "scatter3d"
           }
          ],
          "scattercarpet": [
           {
            "marker": {
             "colorbar": {
              "outlinewidth": 0,
              "ticks": ""
             }
            },
            "type": "scattercarpet"
           }
          ],
          "scattergeo": [
           {
            "marker": {
             "colorbar": {
              "outlinewidth": 0,
              "ticks": ""
             }
            },
            "type": "scattergeo"
           }
          ],
          "scattergl": [
           {
            "marker": {
             "colorbar": {
              "outlinewidth": 0,
              "ticks": ""
             }
            },
            "type": "scattergl"
           }
          ],
          "scattermapbox": [
           {
            "marker": {
             "colorbar": {
              "outlinewidth": 0,
              "ticks": ""
             }
            },
            "type": "scattermapbox"
           }
          ],
          "scatterpolar": [
           {
            "marker": {
             "colorbar": {
              "outlinewidth": 0,
              "ticks": ""
             }
            },
            "type": "scatterpolar"
           }
          ],
          "scatterpolargl": [
           {
            "marker": {
             "colorbar": {
              "outlinewidth": 0,
              "ticks": ""
             }
            },
            "type": "scatterpolargl"
           }
          ],
          "scatterternary": [
           {
            "marker": {
             "colorbar": {
              "outlinewidth": 0,
              "ticks": ""
             }
            },
            "type": "scatterternary"
           }
          ],
          "surface": [
           {
            "colorbar": {
             "outlinewidth": 0,
             "ticks": ""
            },
            "colorscale": [
             [
              0,
              "#0d0887"
             ],
             [
              0.1111111111111111,
              "#46039f"
             ],
             [
              0.2222222222222222,
              "#7201a8"
             ],
             [
              0.3333333333333333,
              "#9c179e"
             ],
             [
              0.4444444444444444,
              "#bd3786"
             ],
             [
              0.5555555555555556,
              "#d8576b"
             ],
             [
              0.6666666666666666,
              "#ed7953"
             ],
             [
              0.7777777777777778,
              "#fb9f3a"
             ],
             [
              0.8888888888888888,
              "#fdca26"
             ],
             [
              1,
              "#f0f921"
             ]
            ],
            "type": "surface"
           }
          ],
          "table": [
           {
            "cells": {
             "fill": {
              "color": "#EBF0F8"
             },
             "line": {
              "color": "white"
             }
            },
            "header": {
             "fill": {
              "color": "#C8D4E3"
             },
             "line": {
              "color": "white"
             }
            },
            "type": "table"
           }
          ]
         },
         "layout": {
          "annotationdefaults": {
           "arrowcolor": "#2a3f5f",
           "arrowhead": 0,
           "arrowwidth": 1
          },
          "autotypenumbers": "strict",
          "coloraxis": {
           "colorbar": {
            "outlinewidth": 0,
            "ticks": ""
           }
          },
          "colorscale": {
           "diverging": [
            [
             0,
             "#8e0152"
            ],
            [
             0.1,
             "#c51b7d"
            ],
            [
             0.2,
             "#de77ae"
            ],
            [
             0.3,
             "#f1b6da"
            ],
            [
             0.4,
             "#fde0ef"
            ],
            [
             0.5,
             "#f7f7f7"
            ],
            [
             0.6,
             "#e6f5d0"
            ],
            [
             0.7,
             "#b8e186"
            ],
            [
             0.8,
             "#7fbc41"
            ],
            [
             0.9,
             "#4d9221"
            ],
            [
             1,
             "#276419"
            ]
           ],
           "sequential": [
            [
             0,
             "#0d0887"
            ],
            [
             0.1111111111111111,
             "#46039f"
            ],
            [
             0.2222222222222222,
             "#7201a8"
            ],
            [
             0.3333333333333333,
             "#9c179e"
            ],
            [
             0.4444444444444444,
             "#bd3786"
            ],
            [
             0.5555555555555556,
             "#d8576b"
            ],
            [
             0.6666666666666666,
             "#ed7953"
            ],
            [
             0.7777777777777778,
             "#fb9f3a"
            ],
            [
             0.8888888888888888,
             "#fdca26"
            ],
            [
             1,
             "#f0f921"
            ]
           ],
           "sequentialminus": [
            [
             0,
             "#0d0887"
            ],
            [
             0.1111111111111111,
             "#46039f"
            ],
            [
             0.2222222222222222,
             "#7201a8"
            ],
            [
             0.3333333333333333,
             "#9c179e"
            ],
            [
             0.4444444444444444,
             "#bd3786"
            ],
            [
             0.5555555555555556,
             "#d8576b"
            ],
            [
             0.6666666666666666,
             "#ed7953"
            ],
            [
             0.7777777777777778,
             "#fb9f3a"
            ],
            [
             0.8888888888888888,
             "#fdca26"
            ],
            [
             1,
             "#f0f921"
            ]
           ]
          },
          "colorway": [
           "#636efa",
           "#EF553B",
           "#00cc96",
           "#ab63fa",
           "#FFA15A",
           "#19d3f3",
           "#FF6692",
           "#B6E880",
           "#FF97FF",
           "#FECB52"
          ],
          "font": {
           "color": "#2a3f5f"
          },
          "geo": {
           "bgcolor": "white",
           "lakecolor": "white",
           "landcolor": "#E5ECF6",
           "showlakes": true,
           "showland": true,
           "subunitcolor": "white"
          },
          "hoverlabel": {
           "align": "left"
          },
          "hovermode": "closest",
          "mapbox": {
           "style": "light"
          },
          "paper_bgcolor": "white",
          "plot_bgcolor": "#E5ECF6",
          "polar": {
           "angularaxis": {
            "gridcolor": "white",
            "linecolor": "white",
            "ticks": ""
           },
           "bgcolor": "#E5ECF6",
           "radialaxis": {
            "gridcolor": "white",
            "linecolor": "white",
            "ticks": ""
           }
          },
          "scene": {
           "xaxis": {
            "backgroundcolor": "#E5ECF6",
            "gridcolor": "white",
            "gridwidth": 2,
            "linecolor": "white",
            "showbackground": true,
            "ticks": "",
            "zerolinecolor": "white"
           },
           "yaxis": {
            "backgroundcolor": "#E5ECF6",
            "gridcolor": "white",
            "gridwidth": 2,
            "linecolor": "white",
            "showbackground": true,
            "ticks": "",
            "zerolinecolor": "white"
           },
           "zaxis": {
            "backgroundcolor": "#E5ECF6",
            "gridcolor": "white",
            "gridwidth": 2,
            "linecolor": "white",
            "showbackground": true,
            "ticks": "",
            "zerolinecolor": "white"
           }
          },
          "shapedefaults": {
           "line": {
            "color": "#2a3f5f"
           }
          },
          "ternary": {
           "aaxis": {
            "gridcolor": "white",
            "linecolor": "white",
            "ticks": ""
           },
           "baxis": {
            "gridcolor": "white",
            "linecolor": "white",
            "ticks": ""
           },
           "bgcolor": "#E5ECF6",
           "caxis": {
            "gridcolor": "white",
            "linecolor": "white",
            "ticks": ""
           }
          },
          "title": {
           "x": 0.05
          },
          "xaxis": {
           "automargin": true,
           "gridcolor": "white",
           "linecolor": "white",
           "ticks": "",
           "title": {
            "standoff": 15
           },
           "zerolinecolor": "white",
           "zerolinewidth": 2
          },
          "yaxis": {
           "automargin": true,
           "gridcolor": "white",
           "linecolor": "white",
           "ticks": "",
           "title": {
            "standoff": 15
           },
           "zerolinecolor": "white",
           "zerolinewidth": 2
          }
         }
        },
        "title": {
         "text": "Estimated delta and daily profit and loss over the product survival period",
         "x": 0.5
        },
        "width": 1000,
        "xaxis": {
         "anchor": "y",
         "domain": [
          0,
          0.45
         ],
         "linecolor": "black",
         "mirror": true,
         "title": {
          "text": "Date"
         }
        },
        "xaxis2": {
         "anchor": "y2",
         "domain": [
          0.55,
          1
         ],
         "linecolor": "black",
         "mirror": true,
         "title": {
          "text": "Date"
         }
        },
        "yaxis": {
         "anchor": "x",
         "domain": [
          0,
          1
         ],
         "linecolor": "black",
         "mirror": true
        },
        "yaxis2": {
         "anchor": "x2",
         "domain": [
          0,
          1
         ],
         "linecolor": "black",
         "mirror": true,
         "range": [
          -20,
          20
         ]
        }
       }
      }
     },
     "metadata": {},
     "output_type": "display_data"
    }
   ],
   "source": [
    "SFD500.plot_delta_pnl(hedge_result[\"delta\"], hedge_result[\"PnL\"], hedge_result[\"cumulative PnL\"], linewidth = 2)"
   ]
  },
  {
   "cell_type": "code",
   "execution_count": 53,
   "metadata": {},
   "outputs": [
    {
     "name": "stdout",
     "output_type": "stream",
     "text": [
      "Mean Delta: 26.44218334515665\n",
      "Max Drardown: 62.42184153773619%\n",
      "Annual Sharpe: 2.953870450368852\n"
     ]
    }
   ],
   "source": [
    "print(f\"Mean Delta: {hedge_result['delta'].mean()}\\nMax Drardown: {structure_product.get_max_drawdown(hedge_result['cumulative PnL'])}%\\nAnnual Sharpe: {structure_product.get_annual_sharpe(hedge_result['PnL'])}\")"
   ]
  },
  {
   "cell_type": "code",
   "execution_count": 47,
   "metadata": {},
   "outputs": [
    {
     "data": {
      "text/plain": [
       "count    21.000000\n",
       "mean     27.701335\n",
       "std       2.127614\n",
       "min      24.184777\n",
       "25%      26.337565\n",
       "50%      27.663890\n",
       "75%      28.825104\n",
       "max      32.451975\n",
       "Name: delta, dtype: float64"
      ]
     },
     "execution_count": 47,
     "metadata": {},
     "output_type": "execute_result"
    }
   ],
   "source": [
    "hedge_result[\"delta\"][hedge_result[\"delta\"] > 0].describe()"
   ]
  },
  {
   "cell_type": "code",
   "execution_count": 54,
   "metadata": {},
   "outputs": [
    {
     "data": {
      "text/plain": [
       "count    21.000000\n",
       "mean      0.591410\n",
       "std       3.178322\n",
       "min      -4.786452\n",
       "25%      -1.022068\n",
       "50%       1.037618\n",
       "75%       3.133640\n",
       "max       6.481927\n",
       "Name: PnL, dtype: float64"
      ]
     },
     "execution_count": 54,
     "metadata": {},
     "output_type": "execute_result"
    }
   ],
   "source": [
    "hedge_result[\"PnL\"].describe()"
   ]
  },
  {
   "cell_type": "code",
   "execution_count": 49,
   "metadata": {},
   "outputs": [
    {
     "data": {
      "text/plain": [
       "date\n",
       "2019-01-03          NaN\n",
       "2019-01-04     3.143270\n",
       "2019-01-07     4.265610\n",
       "2019-01-08    10.747537\n",
       "2019-01-09    10.471345\n",
       "2019-01-10    11.957225\n",
       "2019-01-11    11.082102\n",
       "2019-01-14     6.759096\n",
       "2019-01-15     9.907020\n",
       "2019-01-16    14.455227\n",
       "2019-01-17    14.081002\n",
       "2019-01-18    15.937499\n",
       "2019-01-21    19.071139\n",
       "2019-01-22    15.089548\n",
       "2019-01-23    12.319860\n",
       "2019-01-24    13.357479\n",
       "2019-01-25    16.124004\n",
       "2019-01-28    15.477651\n",
       "2019-01-29    12.975103\n",
       "2019-01-30    11.953035\n",
       "2019-01-31     7.166583\n",
       "2019-02-01    12.419620\n",
       "Name: cumulative PnL, dtype: float64"
      ]
     },
     "execution_count": 49,
     "metadata": {},
     "output_type": "execute_result"
    }
   ],
   "source": [
    "hedge_result[\"cumulative PnL\"]"
   ]
  }
 ],
 "metadata": {
  "kernelspec": {
   "display_name": "Python 3",
   "language": "python",
   "name": "python3"
  },
  "language_info": {
   "codemirror_mode": {
    "name": "ipython",
    "version": 3
   },
   "file_extension": ".py",
   "mimetype": "text/x-python",
   "name": "python",
   "nbconvert_exporter": "python",
   "pygments_lexer": "ipython3",
   "version": "3.10.2"
  },
  "orig_nbformat": 4,
  "vscode": {
   "interpreter": {
    "hash": "05a629c9c7b14384ba00a8fbe4f2a5b47d4fe048899e3fe7dc11230dbb9987fb"
   }
  }
 },
 "nbformat": 4,
 "nbformat_minor": 2
}
